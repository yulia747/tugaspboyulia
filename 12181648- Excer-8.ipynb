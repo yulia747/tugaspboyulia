{
 "cells": [
  {
   "cell_type": "code",
   "execution_count": null,
   "metadata": {},
   "outputs": [],
   "source": []
  },
  {
   "cell_type": "markdown",
   "metadata": {},
   "source": [
    "## Tiga Pilar Dalam PBO\n",
    "\n",
    "Tiga konsep penting yang dimiliki dalam metode PBO adalah sebagai berikut :\n",
    " 1. [Enscapsulation](#1.-Pembungkusan-(Enscapsulation))\n",
    " 2. [Inheritance](#2.-Pewarisan-(Inheritance))\n",
    " 3. [Polymorphism:](#3.Polymorphism)\n",
    "     * [Dynamic Binding](#3.1-Dynamic-Binding)\n",
    "     * [Overloading](#3.2-Overloading)\n",
    "     * [Overiding](#3.3-Overriding)\n",
    "     * [Abstract Class](#3.4-Abstract-Class)\n",
    "     * [Interface Class](#3.5-Interface-Class)\n",
    " \n",
    "-------------------------\n",
    "\n",
    "## 1. Pembungkusan (Enscapsulation)\n",
    "\n",
    "**Encapsulation** adalah salah satu pillar dalam konsep PBO. Encapsulation dalam pemrograman java adalah mekanisme pembungkusan data (*variable*) dan fungsi (*method*) dalam satu unit dalam hal ini class. \n",
    "\n",
    "Seperti sebelumnya sudah kita bahas bahwa class terdiri atas beberapa jenis kompunen, dalam Encapsulation kita bisa melakukan setting terhadap kompunen kompunen tersebut.\n",
    "\n",
    "Dalam konsep Encapsulation kompunen tersebut dapat disembunyikan atau dimunculkan terhadap class lain, hal inilah yang biasa disebut sebagai  data hiding.\n",
    "\n",
    "Beberapa hal yang perlu diperhatikan dalam kosep  Enscapsulation  adalah sebagai berikut.\n",
    "\n",
    " 1. Declare the variables of a class as private.\n",
    "\n",
    " 2. Provide public setter and getter methods to modify and view the variables values\n",
    "\n",
    " 3. Implement modifier\n",
    "\n",
    "### Modifier\n",
    "Dengan cara memberikan modifier pada  semua kompunen yang dimiliki class. Ada beberapa modifier yang dikenal di JAVA\n",
    "\t1. Private. Bahwa kompunen tersebut tidak bisa diakses oleh class lain selain class yang mendefinisikanya.\n",
    "\t2. Public. Bahwa kompunen tersebut tidak bisa diakses oleh class lain diluar class tersebut\n",
    "\t3. Protected. Bahwa kompunen tersebut hanya bisa diakses oleh sub class dari class yang mendifiniskanya.   \n",
    "\n",
    "### Tugas 8.1\n",
    "\n",
    "Implementasikan konsep enskapsulasi pada kasus UTS anda\n",
    "\n",
    "\n",
    "------------------------"
   ]
  },
  {
   "cell_type": "code",
   "execution_count": 1,
   "metadata": {},
   "outputs": [
    {
     "data": {
      "text/plain": [
       "com.twosigma.beaker.javash.bkrc9b8004f.BangunRuang"
      ]
     },
     "execution_count": 1,
     "metadata": {},
     "output_type": "execute_result"
    }
   ],
   "source": [
    "public class BangunRuang {\n",
    "\n",
    "    private String nim; //pembuatan variable bangun ruang\n",
    "    private int luasAlas;\n",
    "    private int volume;\n",
    "    private int tinggi;\n",
    "\n",
    "    public BangunRuang(String nim, int luasAlas, int tinggi) {\n",
    "        this.nim = nim;\n",
    "        this.luasAlas = luasAlas;\n",
    "        this.tinggi = tinggi;\n",
    "    }\n",
    "\n",
    "    public String getNim() {\n",
    "        return nim;\n",
    "    }\n",
    "\n",
    "    public void setNim(String nim) {\n",
    "        this.nim = nim;\n",
    "    }\n",
    "\n",
    "    public int getLuasAlas() {\n",
    "        return luasAlas;\n",
    "    }\n",
    "\n",
    "    public void setLuasAlas(int luasAlas) {\n",
    "        this.luasAlas = luasAlas;\n",
    "    }\n",
    "\n",
    "    public int getTinggi() {\n",
    "        return tinggi;\n",
    "    }\n",
    "\n",
    "    public void setTinggi(int tinggi) {\n",
    "        this.tinggi = tinggi;\n",
    "    }\n",
    "\n",
    "    public int getVolume() {\n",
    "        return volume;\n",
    "    }\n",
    "\n",
    "    public void hitungVolume() {\n",
    "        switch (nim.charAt(7)) { //disini menggunakan case untuk berbagai kasus perhitungan berdasarkan nim\n",
    "            case '1': //penggunaan method charAt utk membaca value string dari argumen yg diberikan\n",
    "                System.out.println(\"BANGUN KUBUS\");\n",
    "                break;\n",
    "            case '2':\n",
    "                System.out.println(\"BANGUN BALOK\");\n",
    "                break;\n",
    "            case '3':\n",
    "                System.out.println(\"BANGUN PRISMA SEGITIGA\"); //karena NIM 12181633 maka akan menghitung prisma segitiga\n",
    "                volume = luasAlas * tinggi;\n",
    "                System.out.println(\"Hasil perhitungan volume adalah \" + volume);\n",
    "                break;\n",
    "            case '4':\n",
    "                System.out.println(\"BANGUN PRISMA SEGILIMA\");\n",
    "                break;\n",
    "            case '5':\n",
    "                System.out.println(\"BANGUN LIMAS SEGIEMPAT\");\n",
    "                break;\n",
    "            case '6':\n",
    "                System.out.println(\"BANGUN LIMAS SEGILIMA\");\n",
    "                break;\n",
    "            case '7':\n",
    "                System.out.println(\"BANGUN KERUCUT\");\n",
    "                break;\n",
    "            case '8':\n",
    "                System.out.println(\"BANGUN TABUNG\");\n",
    "                break;\n",
    "            case '9':\n",
    "                System.out.println(\"BANGUN BOLA\");\n",
    "                break;\n",
    "        }\n",
    "    }\n",
    "\n",
    "    public static void main(String[] args) {\n",
    "        BangunRuang bangunRuang = new BangunRuang(\"12181633\", 5, 4);\n",
    "\n",
    "        bangunRuang.hitungVolume();\n",
    "        System.out.println(bangunRuang.getVolume());\n",
    "    }\n",
    "}"
   ]
  },
  {
   "cell_type": "code",
   "execution_count": 3,
   "metadata": {},
   "outputs": [
    {
     "name": "stdout",
     "output_type": "stream",
     "text": [
      "BANGUN PRISMA SEGITIGA\n",
      "Hasil perhitungan volume adalah 20\n",
      "20\n"
     ]
    },
    {
     "data": {
      "text/plain": [
       "null"
      ]
     },
     "execution_count": 3,
     "metadata": {},
     "output_type": "execute_result"
    }
   ],
   "source": [
    "//PROGRAM RUN\n",
    "        BangunRuang bangunRuang = new BangunRuang(\"12181633\", 5, 4);\n",
    "\n",
    "        bangunRuang.hitungVolume();\n",
    "        System.out.println(bangunRuang.getVolume());\n"
   ]
  },
  {
   "cell_type": "markdown",
   "metadata": {},
   "source": [
    "## 2. Pewarisan (Inheritance)\n",
    "Inheritance (pewarisan) adalah mekanisme di OOP yang memungkinkan class baru dibuat berdasarkan class yang sudah ada sebelumnya. \n",
    "\n",
    "**Contoh** \n",
    "Sebuah universitas membuka beberapa program S1. Dikarenakan rumitnya administrasi akademik yang ada maka  dibuatlah Aplikasi SIM Akademik. Dalam aplikasi tersebut terdapat kompunen class Mahasiswa. Kurun waktu berjalan Univeritas tersebut bekembang sangat pesat sehingga membuka program S2. Karena kompunen Aplikasi SIM Akademik yang lama hanya bisa mengakomodir hal - hal yang berkait dengan mahasiswa program S1 dalam class Mahasiswa lalu bagaimana yang harus dilakukan agar bisa mengakomodir permasalahan berkait dengan mahasiswa S2?\n",
    "\n",
    "Hal - hal demikian inilah kemampuan **inheritance** dalam PBO dibutuhkan. Kita tidak perlu membuat sebuah kompunen yang betul - betul baru. Cukup kita menggembangkan kompunen yang sudah ada dengan menambahkan kemampuan - kemampuan yang belum ada. \n",
    "Langkah yang dilakukan adalah akan diturunkan class MahasiswaS2 dari kelas Mahasiswa. Class MahasiswaS2 yang baru ini akan mewarisi *atribut* dan *method* milik Mahasiswa, tapi juga bisa menambahkan *atribut* atau *method* yang baru sesuai kebutuhan. Class Mahasiswa akan disebut sebagai **superclass** dan class MahasiswaS2 adalah **subclass**.\n",
    "\n",
    "Berikut ini adalah struktur *class Mahasiswa* \n",
    "``` javascript\n",
    "public class Mahasiswa {\n",
    "\tString nama;\n",
    "\tdouble IPK;\n",
    "\tint semester;\n",
    "\t\n",
    "public String hitungYudisium() {\n",
    "\tString yudisium;\n",
    "\tif ( (semester<=8) && (IPK>3.5) ) {\n",
    "\t\t\tyudisium = \"Cum Laude\";\n",
    "\t\t} else {\n",
    "\t\t\tyudisium = \"Memuaskan\";\n",
    "\t\t}\n",
    "\t\treturn yudisium;\n",
    "\t}\n",
    "}    \n",
    "```\n",
    "\n",
    "Kita akan membuat class baru yang merupakan pengembangan dari class yang telah ada sebelumnya yaitu *class MahasiswaS2*.  \n",
    "``` javascript\n",
    "public class MahasiswaS2 extends Mahasiswa {\n",
    "\t\n",
    "public String hitungYudisium() {\n",
    "\t\tString yudisium;\n",
    "\t\tif ( (semester<=6) && (IPK>3.8) ) {\n",
    "\t\t\tyudisium = \"Cum Laude\";\n",
    "\t\t} else {\n",
    "\t\t\tyudisium = \"Memuaskan\";\n",
    "\t\t}\n",
    "\t\treturn yudisium;\n",
    "\t}\n",
    "}\n",
    "``` \n",
    "Statment **extends** harus didefinisikan, yang menyatakan bahwa class tersebut adalah sebuah *sub class* (class anak) dari suatu *super class* (class induk).\n",
    "Statment class berikut menyatakan bahwa class MahasiswaS2 adalah adalah turunan dari class Mahasiswa. \n",
    "\n",
    "``` javascript\n",
    "public class MahasiswaS2 extends Mahasiswa {\n",
    "}    \n",
    "``` \n",
    "### Konsep *Overide* Dalam Pewarisan\n",
    "\n",
    "Struktur class Mahasiswa dan class MahasiswaS2 sekilas terlihat sama tapi bila dicermati ada hal yang berbeda, yaitu dapat dilihat pada kode diatas bahwa atribut  *semester*, IPK tidak perlu dideklarasikan ulang. Kita bisa mengubah / memambahkan kemampuan pada sebuah kompunen dalam hal ini *hitungYudisium()*. Hal inilah yang dikenal sebagai konsep **overiding**. \n",
    "\n",
    "Semua pada *superclass* dapat diakses oleh *subclass*, kecuali yang dideklarasikan sebagai **private**. \n",
    "\n",
    "    \n",
    "Sub class bisa menambah kompunen yang dibutuhkan yaitu kompunen yang tidak ada di *super class*.\n",
    "\n",
    "``` javascript\n",
    "public class MahasiswaS2 extends Mahasiswa {\n",
    "\t\n",
    "public String hitungYudisium() {\n",
    "\t\tString yudisium;\n",
    "\t\tif ( (semester<=4) && (IPK>3.8) ) {\n",
    "\t\t\tyudisium = \"Cum Laude\";\n",
    "\t\t} else {\n",
    "\t\t\tyudisium = \"Memuaskan\";\n",
    "\t\t}\n",
    "\t\treturn yudisium;\n",
    "\t}\n",
    "    \n",
    "public String getJurusanS1() {}\n",
    "   ....\n",
    "   ....\n",
    "}\n",
    "```\n",
    "### Statment *super* Dalam Pewarisan \n",
    "\n",
    "Terkadang method di child yang menggoverride perlu memanggil method parent. \n",
    "\n",
    "Misalnya kita memiliki satu class Ortu dengan satu method.\n",
    "\n",
    "``` javascript\n",
    "public class Ortu {\n",
    "\tpublic void salam() {\n",
    "\t\tSystem.out.println(\"Ini salam dari ortu\");\n",
    "\t}\n",
    "}\n",
    "```\n",
    "\n",
    "Kemudian ada class anak sebagai subclass Ortu yang menggoveride method salam. Perhatikan penggunaan keyword super.\n",
    "\n",
    "``` javascript\n",
    "public class Anak extends Ortu {\n",
    "\t\n",
    "\tpublic void salam() {\n",
    "\t\tsuper.salam(); //panggil Ortu.salam\n",
    "\t\tSystem.out.println(\"Salam dari anak\");\n",
    "\t}\n",
    "\t\n",
    "\tpublic static void main(String[] args) {\n",
    "\t\tAnak a = new Anak();\n",
    "\t\ta.salam();\n",
    "\t}\n",
    "\n",
    "}\n",
    "```\n",
    "\n",
    "\n",
    "### Tugas 8.2\n",
    "\n",
    "Lakukan eksesusi kode berikut dan amatilah hasilnya.\n",
    "\n",
    "----------------\n",
    "``` javascript\n",
    "public class Mahasiswa {\n",
    "\tString nama;\n",
    "\tdouble IPK;\n",
    "\tint semester;\n",
    "\t\n",
    "public String hitungYudisium() {\n",
    "\tString yudisium;\n",
    "\tif ( (semester<=8) && (IPK>3.5) ) {\n",
    "\t\t\tyudisium = \"Cum Laude\";\n",
    "\t\t} else {\n",
    "\t\t\tyudisium = \"Memuaskan\";\n",
    "\t\t}\n",
    "\t\treturn yudisium;\n",
    "\t}\n",
    "}    \n",
    "\n",
    "public class MahasiswaS2 extends Mahasiswa {\n",
    "\t\n",
    "public String hitungYudisium() {\n",
    "\t\tString yudisium;\n",
    "\t\tif ( (semester<=4) && (IPK>3.8) ) {\n",
    "\t\t\tyudisium = \"Cum Laude\";\n",
    "\t\t} else {\n",
    "\t\t\tyudisium = \"Memuaskan\";\n",
    "\t\t}\n",
    "\t\treturn yudisium;\n",
    "\t}\n",
    "    \n",
    "}\n",
    "``` \n",
    "----------------\n",
    "\n",
    "``` javascript\n",
    "        Mahasiswa m = new Mahasiswa();\n",
    "\t\tm.IPK=3.6;\n",
    "\t\tm.semester=8;\n",
    "\t\tSystem.out.println(m.hitungYudisium());\n",
    "\n",
    "        MahasiswaS2 mS2 = new MahasiswaS2();  \n",
    "\t\tmS2.IPK=3.6;\n",
    "\t\tmS2.semester=8;\n",
    "\t\tSystem.out.println(mS2.hitungYudisium());\n",
    "``` \n",
    "\n",
    "----------------\n"
   ]
  },
  {
   "cell_type": "code",
   "execution_count": 6,
   "metadata": {},
   "outputs": [
    {
     "data": {
      "text/plain": [
       "com.twosigma.beaker.javash.bkrc9b8004f.Mahasiswa"
      ]
     },
     "execution_count": 6,
     "metadata": {},
     "output_type": "execute_result"
    }
   ],
   "source": [
    "public class Mahasiswa {\n",
    "    String nama;\n",
    "    double IPK;\n",
    "    int semester;\n",
    "\n",
    "public String hitungYudisium() {\n",
    "    String yudisium;\n",
    "    if ( (semester<=8) && (IPK>3.5) ) {\n",
    "            yudisium = \"Cum Laude\";\n",
    "        } else {\n",
    "            yudisium = \"Memuaskan\";\n",
    "        }\n",
    "        return yudisium;\n",
    "    }\n",
    "}    \n"
   ]
  },
  {
   "cell_type": "code",
   "execution_count": 7,
   "metadata": {},
   "outputs": [
    {
     "data": {
      "text/plain": [
       "com.twosigma.beaker.javash.bkrc9b8004f.MahasiswaS2"
      ]
     },
     "execution_count": 7,
     "metadata": {},
     "output_type": "execute_result"
    }
   ],
   "source": [
    "public class MahasiswaS2 extends Mahasiswa {\n",
    "\n",
    "public String hitungYudisium() {\n",
    "        String yudisium;\n",
    "        if ( (semester<=4) && (IPK>3.8) ) {\n",
    "            yudisium = \"Cum Laude\";\n",
    "        } else {\n",
    "            yudisium = \"Memuaskan\";\n",
    "        }\n",
    "        return yudisium;\n",
    "    }\n",
    "\n",
    "}"
   ]
  },
  {
   "cell_type": "code",
   "execution_count": 8,
   "metadata": {},
   "outputs": [
    {
     "name": "stdout",
     "output_type": "stream",
     "text": [
      "Cum Laude\n",
      "Memuaskan\n"
     ]
    },
    {
     "data": {
      "text/plain": [
       "null"
      ]
     },
     "execution_count": 8,
     "metadata": {},
     "output_type": "execute_result"
    }
   ],
   "source": [
    "Mahasiswa m = new Mahasiswa();\n",
    "        m.IPK=3.6;\n",
    "        m.semester=8;\n",
    "        System.out.println(m.hitungYudisium());\n",
    "\n",
    "        MahasiswaS2 mS2 = new MahasiswaS2();  \n",
    "        mS2.IPK=3.6;\n",
    "        mS2.semester=8;\n",
    "        System.out.println(mS2.hitungYudisium());"
   ]
  },
  {
   "cell_type": "markdown",
   "metadata": {},
   "source": [
    "### Tugas 8.3\n",
    "\n",
    "Buatlah class MahasiswaS3  yang merupakan turunan dari class Mahasiswa. Override method hitungYudisium dengan syarat IPK harus >= 3.6 dan semester <= 6. dengan implementassi sebagai berikut  \n",
    "``` \n",
    "        MahasiswaS3 mS3 = new MahasiswaS3();  \n",
    "\t\tmS3.IPK=3.9;\n",
    "\t\tmS3.semester=8;\n",
    "\t\tSystem.out.println(mS3.hitungYudisium());\n",
    "``` \n",
    "-------------------------------"
   ]
  },
  {
   "cell_type": "code",
   "execution_count": 9,
   "metadata": {},
   "outputs": [
    {
     "data": {
      "text/plain": [
       "com.twosigma.beaker.javash.bkrc9b8004f.MahasiswaS3"
      ]
     },
     "execution_count": 9,
     "metadata": {},
     "output_type": "execute_result"
    }
   ],
   "source": [
    "public class MahasiswaS3 extends Mahasiswa {\n",
    "\n",
    "public String hitungYudisium() {\n",
    "        String yudisium;\n",
    "        if ( (semester<=6) && (IPK>=3.6) ) {\n",
    "            yudisium = \"Cum Laude\";\n",
    "        } else {\n",
    "            yudisium = \"Memuaskan\";\n",
    "        }\n",
    "        return yudisium;\n",
    "    }\n",
    "}"
   ]
  },
  {
   "cell_type": "code",
   "execution_count": 10,
   "metadata": {},
   "outputs": [
    {
     "name": "stdout",
     "output_type": "stream",
     "text": [
      "Memuaskan\n"
     ]
    },
    {
     "data": {
      "text/plain": [
       "null"
      ]
     },
     "execution_count": 10,
     "metadata": {},
     "output_type": "execute_result"
    }
   ],
   "source": [
    "        MahasiswaS3 mS3 = new MahasiswaS3();\n",
    "        mS3.IPK = 3.9;\n",
    "        mS3.semester = 8;\n",
    "        System.out.println(mS3.hitungYudisium());"
   ]
  },
  {
   "cell_type": "markdown",
   "metadata": {},
   "source": [
    "## 3.Polymorphism\n",
    "\n",
    "Polymorphism merupakan salah satu konsep penting dalam object oriented programming (OOP) khususnya di bahasa pemrograman Java setelah *Encapsulation*  dan *inheritance*. Polymorphism berarti banyak bentuk. \n",
    "\n",
    "dalam java dapat di implementasi dalam lima hal berikut:\n",
    "\n",
    "Level Sederhana:\n",
    " 1. [Dynamic Binding](#3.1-Dynamic-Binding)\n",
    " 2. [Overloading](#3.2-Overloading)\n",
    " 3. [Overiding](#3.3-Overriding)\n",
    "\n",
    "Level Lanjut:\n",
    "\n",
    " 4. [Abstract Class](#3.4-Abstract-Class)\n",
    " 5. [Interface Class](#3.5-Interface-Class)\n",
    "\n",
    "Dengan *polymorphism*, salah satu kelebihan konsep OOP adalah kita dapat memiliki variabel yang bisa berubah-ubah.  Untuk lebih jelasnya adalah sebagai berikut.\n",
    "\n",
    "### 3.1 Dynamic Binding\n",
    "\n",
    "Seperti yang sudah anda ketahui, method dapat diimplementasikan dalam beberapa class melalui rantai inheritance.\n",
    "\n",
    "Kemudian Java Virtual Machine akan memutuskan mengenai method mana yang akan dipilih pada saat runtime.\n",
    "\n",
    "Sebelum lebih memahami mengenai dynamic binding ini, ada dua istilah yang perlu dimengerti terlebih dahulu, yaitu:\n",
    "\n",
    " * Tipe yang dideklarasikan, ini adalah variabel referensi untuk objek atau declared type.\n",
    " * Tipe aktual, yaitu class aktual dimana declared type menjadi variabel referensi untuk objek dari   class tersebut\n",
    "\n",
    "                                    OBJECT\n",
    "                                       ^\n",
    "                                    class A{}\n",
    "                                       ^\n",
    "                                    class B{}\n",
    "                                       ^\n",
    "                                    class C{}\n",
    "       \n",
    "Seperti dalam ilustrasi dari gambar diatas sebuah method akan di implementasikan oleh class A, B, dan C.\n",
    "\n",
    "Perhatikan kode di bawah ini:\n",
    "\n",
    "``` javascript\n",
    "public class A extends Object {\n",
    " \n",
    " @Override\n",
    " public String toString(){\n",
    "  \n",
    "  return \"method toString() dari class A dipanggil!\";\n",
    " }\n",
    " \n",
    "}\n",
    "\n",
    "\t\n",
    "public class A extends Object {\n",
    " \n",
    " @Override\n",
    " public String toString(){\n",
    "  \n",
    "  return \"method toString() dari class A dipanggil!\";\n",
    " }\n",
    " \n",
    "}3.4 Abstract Class\n",
    "\n",
    "public class B extends A {\n",
    " \n",
    " @Override3.4 Abstract Class\n",
    " public String toString(){\n",
    "  \n",
    "  return \"method toString() dari class B dipanggil!\";\n",
    " }\n",
    "\n",
    "}\n",
    "\n",
    "\t\n",
    "public class B extends A {\n",
    " \n",
    " @Override\n",
    " public String toString(){\n",
    "  \n",
    "  return \"method toString() dari class B dipanggil!\";\n",
    " }\n",
    " \n",
    "}\n",
    "\n",
    "public class C extends B {3.4 Abstract Class\n",
    " \n",
    " @Override\n",
    " public String toString(){\n",
    "  \n",
    "  return \"method toString() dari class C dipanggil!\";\n",
    " }\n",
    " \n",
    "}\n",
    "\n",
    "\n",
    "public class C extends B {\n",
    " \n",
    " @Override\n",
    " public String toString(){\n",
    "  \n",
    "  return \"method toString() dari class C dipanggil!\";\n",
    " }\n",
    " \n",
    "}\n",
    "\n",
    "public class TestDynamicBinding {\n",
    " //Method perintah dengan parameter tipe Object\n",
    " static void perintah(Object myObject){\n",
    "  3.4 Abstract Class\n",
    "  System.out.println(myObject.toString());\n",
    "\n",
    " }\n",
    " \n",
    " public void doTest() {\n",
    " \n",
    "  perintah(new C());//memanggil method toString dari class C\n",
    "  perintah(new B());//memanggil method toString dari class B\n",
    "  perintah(new A());//memanggil method toString dari class A\n",
    "  perintah(new Object());\n",
    "  \n",
    " }\n",
    " \n",
    "}\n",
    "\n",
    "``` \n",
    "------------------------\n",
    "``` javascript\n",
    "\n",
    "TestDynamicBinding objTest = TestDynamicBinding();\n",
    "objTest.doTest();\n",
    "\n",
    "``` \n",
    "\n",
    "\n",
    "### Tugas 8.4\n",
    "Asumsikan kita telah mempunya class Mahasiswa dan class MahasiswaS3 dari kode sebelumnya. Ubah *Tugas 8.3* lalu tambahkan code berikut untuk mengimplementasikan kode berikut:\n",
    "\n",
    "``` javascript\n",
    "\t\tMahasiswa m;\n",
    "\t\tMahasiswa mS1 = new Mahasiswa();\n",
    "\t\tMahasiswaS3 mS3 = new MahasiswaS3();\t\t\n",
    "\t\t\n",
    "\t\tmS1.IPK=3.6;\n",
    "\t\tmS1.semester=8;\n",
    "\t\t\n",
    "\t\tmS3.IPK = 3.7;\n",
    "\t\tmS3.semester=5;\n",
    "\n",
    "\t\tm = mS1 ; //bisa\t\t\n",
    "\t\tSystem.out.println(m.hitungYudisium());\n",
    "\t\tm = mS3 ; //bisa juga\n",
    "\t\tm.hitungYudisium(); \t\t\n",
    "\t\tSystem.out.println(m.hitungYudisium());\n",
    "\t\t\n",
    "\t\t//array\n",
    "\t\tMahasiswa[] arrMhs = new Mahasiswa[2];\n",
    "\t\tarrMhs[0] = mS1;\n",
    "\t\tarrMhs[1] = mS3;\n",
    "```\n",
    "\n"
   ]
  },
  {
   "cell_type": "code",
   "execution_count": 11,
   "metadata": {},
   "outputs": [
    {
     "name": "stdout",
     "output_type": "stream",
     "text": [
      "Cum Laude\n",
      "Cum Laude\n"
     ]
    },
    {
     "data": {
      "text/plain": [
       "null"
      ]
     },
     "execution_count": 11,
     "metadata": {},
     "output_type": "execute_result"
    }
   ],
   "source": [
    "Mahasiswa m;\n",
    "        Mahasiswa mS1 = new Mahasiswa();\n",
    "        MahasiswaS3 mS3 = new MahasiswaS3();        \n",
    "\n",
    "        mS1.IPK=3.6;\n",
    "        mS1.semester=8;\n",
    "\n",
    "        mS3.IPK = 3.7;\n",
    "        mS3.semester=5;\n",
    "\n",
    "        m = mS1 ; //bisa        \n",
    "        System.out.println(m.hitungYudisium());\n",
    "        m = mS3 ; //bisa juga\n",
    "        m.hitungYudisium();         \n",
    "        System.out.println(m.hitungYudisium());\n",
    "\n",
    "        //array\n",
    "        Mahasiswa[] arrMhs = new Mahasiswa[2];\n",
    "        arrMhs[0] = mS1;\n",
    "        arrMhs[1] = mS3;"
   ]
  },
  {
   "cell_type": "markdown",
   "metadata": {},
   "source": [
    "### 3.2 Overloading\n",
    "\n",
    "Method **Overloading** adalah sebuah kemampuan yang membolehkan sebuah class mempunyai 2 atau lebih method dengan nama yang sama, yang membedakan adalah parameternya.\n",
    "\n",
    "Pada method overloading perbedaan parameter mencakup :\n",
    "\n",
    "    1 Jumlah parameter\n",
    "    2 Tipe data dari parameter\n",
    "    3 Urutan dari tipe data parameter\n",
    "\n",
    "Method Overloading juga dikenal dengan sebutan Static Polymorphism. Berikut ini contoh Class yang melakukan Overloading.\n",
    "\n",
    "```  javascript\n",
    "//Program 8.5\n",
    "public class ContohOverloading { \n",
    " public void jumlah (int a, int b){\n",
    " System.out.println(\"Jumlah 2 angka =\"+ (a + b));\n",
    " } \n",
    " //oveloading perbedaan jumlah parameter\n",
    " public void jumlah (int a, int b, int c){\n",
    " System.out.println(\"Jumlah 3 angka =\" + (a + b + c));\n",
    " } \n",
    " //overloading perbedaan tipe data parameter\n",
    " public void jumlah (double a, int b){\n",
    " System.out.println(\"Jumlah 2 angka (double+int) = \"+ (a + b));\n",
    " } \n",
    " //overloading perbedaan urutan tipe data parameter\n",
    " public void jumlah (int b, double a){\n",
    " System.out.println(\"Jumlah 2 angka (int+double) = \"+ (a + b));\n",
    " }\n",
    "}\n",
    "``` \n",
    "------------------------------\n",
    "```  javascript\n",
    "        ContohOverloading co  = new ContohOverloading();        \n",
    "        co.jumlah(83,32);\n",
    "        co.jumlah(34,454,432);\n",
    "        co.jumlah(34.43,34);\n",
    "        co.jumlah(28,33.23);\n",
    "```\n",
    "-----------------------------\n",
    "### Tugas 8.5\n",
    "\n",
    "Implementasikan *Program 8.5* diatas kemudian lakukan eksesusi kode tersebut dan amatilah hasilnya."
   ]
  },
  {
   "cell_type": "code",
   "execution_count": 12,
   "metadata": {},
   "outputs": [
    {
     "data": {
      "text/plain": [
       "com.twosigma.beaker.javash.bkrc9b8004f.ContohOverloading"
      ]
     },
     "execution_count": 12,
     "metadata": {},
     "output_type": "execute_result"
    }
   ],
   "source": [
    "//Program 8.5\n",
    "public class ContohOverloading { \n",
    " public void jumlah (int a, int b){\n",
    " System.out.println(\"Jumlah 2 angka =\"+ (a + b));\n",
    " } \n",
    " //oveloading perbedaan jumlah parameter\n",
    " public void jumlah (int a, int b, int c){\n",
    " System.out.println(\"Jumlah 3 angka =\" + (a + b + c));\n",
    " } \n",
    " //overloading perbedaan tipe data parameter\n",
    " public void jumlah (double a, int b){\n",
    " System.out.println(\"Jumlah 2 angka (double+int) = \"+ (a + b));\n",
    " } \n",
    " //overloading perbedaan urutan tipe data parameter\n",
    " public void jumlah (int b, double a){\n",
    " System.out.println(\"Jumlah 2 angka (int+double) = \"+ (a + b));\n",
    " }\n",
    "}"
   ]
  },
  {
   "cell_type": "code",
   "execution_count": 13,
   "metadata": {},
   "outputs": [
    {
     "name": "stdout",
     "output_type": "stream",
     "text": [
      "Jumlah 2 angka =115\n",
      "Jumlah 3 angka =920\n",
      "Jumlah 2 angka (double+int) = 68.43\n",
      "Jumlah 2 angka (int+double) = 61.23\n"
     ]
    },
    {
     "data": {
      "text/plain": [
       "null"
      ]
     },
     "execution_count": 13,
     "metadata": {},
     "output_type": "execute_result"
    }
   ],
   "source": [
    "        ContohOverloading co  = new ContohOverloading();        \n",
    "        co.jumlah(83,32);\n",
    "        co.jumlah(34,454,432);\n",
    "        co.jumlah(34.43,34);\n",
    "        co.jumlah(28,33.23);"
   ]
  },
  {
   "cell_type": "markdown",
   "metadata": {},
   "source": [
    "### 3.3 Overriding\n",
    "\n",
    "Method **overriding** merupakan method yang *parrent class* yang ditulis kembali oleh *subclass*. Aturan dari method *overriding* pada Java :\n",
    "\n",
    " * Parameter yang terdapat pada method overriding di subclass harus sama dengan parameter yang terdapat pada parent class.\n",
    " * Aturan hak akses, hak akses method overriding di subclass tidak boleh lebih ketat di bandingkan dengan hak akses method pada parent class.\n",
    "\n",
    "Berikut ini contoh overriding :\n",
    "\n",
    "```  javascript\n",
    "//Program 8.6\n",
    "\n",
    "public class Binatang {\n",
    "    public void begerak(){\n",
    "        System.out.println(\"Binatang bergerak sesuai kemampuannya\");\n",
    "    }\n",
    "    public void berkembangBiak(){\n",
    "        System.out.println(\"Binatang berkembang biak sesuai kemampuannya\");\n",
    "    }\n",
    "\n",
    "}\n",
    "\n",
    "public class Mamalia extends Binatang {\n",
    "    //overriding method parent class\n",
    "    public void begerak(){\n",
    "        System.out.println(\"Mamalia bergerak sebagian besar dengan kakinya\");\n",
    "    }    \n",
    "    public void berlari(){\n",
    "        System.out.println(\"Sebagian Mamalia dapat berlari\");\n",
    "    }\n",
    "}\n",
    "``` \n",
    "----------------------------\n",
    "```  javascript\n",
    "        Binatang b = new Binatang();\n",
    "        Mamalia m = new Mamalia();\n",
    "        Binatang bm = new Mamalia();\n",
    "        \n",
    "        b.begerak();\n",
    "        m.begerak();\n",
    "        bm.begerak();\n",
    "        bm.berkembangBiak();\n",
    "``` \n",
    "----------------------------\n",
    "### Tugas 8.6\n",
    "Implementasikan *Program 8.6* diatas kemudian lakukan eksesusi kode tersebut dan amatilah hasilnya."
   ]
  },
  {
   "cell_type": "code",
   "execution_count": 15,
   "metadata": {},
   "outputs": [
    {
     "data": {
      "text/plain": [
       "com.twosigma.beaker.javash.bkrc9b8004f.Binatang"
      ]
     },
     "execution_count": 15,
     "metadata": {},
     "output_type": "execute_result"
    }
   ],
   "source": [
    "//Program 8.6\n",
    "public class Binatang {\n",
    "    public void begerak(){\n",
    "        System.out.println(\"Binatang bergerak sesuai kemampuannya\");\n",
    "    }\n",
    "    public void berkembangBiak(){\n",
    "        System.out.println(\"Binatang berkembang biak sesuai kemampuannya\");\n",
    "    }\n",
    "\n",
    "}\n"
   ]
  },
  {
   "cell_type": "code",
   "execution_count": 16,
   "metadata": {},
   "outputs": [
    {
     "data": {
      "text/plain": [
       "com.twosigma.beaker.javash.bkrc9b8004f.Mamalia"
      ]
     },
     "execution_count": 16,
     "metadata": {},
     "output_type": "execute_result"
    }
   ],
   "source": [
    "\n",
    "public class Mamalia extends Binatang {\n",
    "    //overriding method parent class\n",
    "    public void begerak(){\n",
    "        System.out.println(\"Mamalia bergerak sebagian besar dengan kakinya\");\n",
    "    }    \n",
    "    public void berlari(){\n",
    "        System.out.println(\"Sebagian Mamalia dapat berlari\");\n",
    "    }\n",
    "}"
   ]
  },
  {
   "cell_type": "code",
   "execution_count": 17,
   "metadata": {},
   "outputs": [
    {
     "name": "stdout",
     "output_type": "stream",
     "text": [
      "Binatang bergerak sesuai kemampuannya\n",
      "Mamalia bergerak sebagian besar dengan kakinya\n",
      "Mamalia bergerak sebagian besar dengan kakinya\n",
      "Binatang berkembang biak sesuai kemampuannya\n"
     ]
    },
    {
     "data": {
      "text/plain": [
       "null"
      ]
     },
     "execution_count": 17,
     "metadata": {},
     "output_type": "execute_result"
    }
   ],
   "source": [
    "        Binatang b = new Binatang();\n",
    "        Mamalia m = new Mamalia();\n",
    "        Binatang bm = new Mamalia();\n",
    "\n",
    "        b.begerak();\n",
    "        m.begerak();\n",
    "        bm.begerak();\n",
    "        bm.berkembangBiak();\n"
   ]
  },
  {
   "cell_type": "markdown",
   "metadata": {},
   "source": [
    "### 3.4 Abstract Class\n",
    "\n",
    "Abstrak secara umum dapat kita artikan sebagai gambaran tentang sesuatu hal namun belum begitu jelas gambarannya. Sehingga masih butuh suatu proses lagi supaya gambaran tentang sesuatu tersebut menjadi lebih jelas (konkrit). kelas Abstrak tidak berbeda dengan kelas- kelas lainnya yaitu memiliki class members (method dan variabel). Sebuah class adalah abstrak jika  salah  satu  methodnya  dideklarasikan  abstract.  Method abstrak  adalah  method  yang ditentukan dari dalam kelas tapi tidak disertai definisinya . Beberapa hal yang perlu diperhatikan adalah sebagai berikut:\n",
    "\n",
    "    Class abstrak tidak dapat dibuatkan instant atau objeknya menggunakan keyword new.\n",
    "    Sebuah class dapat dideklarasikan sebagai class abstrak walaupun tidak memiliki method abstrak.\n",
    "\n",
    "\n",
    "Definisi kelas diletakkan pada masing – masing kelas turunan (subclass). Dalam hal ini setiap subclass dari kelas abstrak harus mendefinisikan method-method yang tergolong sebagai method  abstrak.  Untuk  membuat  kelas  abstrak  digunakan  key  word  abstract  dengan  cara penulisan seperti berikut:\n",
    "```  javascript\n",
    "abstract <nama method>{\n",
    "//variable instan\n",
    "//method non abstrak\n",
    "//method abstrak\n",
    "} \n",
    "```"
   ]
  },
  {
   "cell_type": "code",
   "execution_count": null,
   "metadata": {},
   "outputs": [],
   "source": []
  },
  {
   "cell_type": "markdown",
   "metadata": {},
   "source": [
    "### 3.5 Interface Class\n",
    "\n",
    "Selain kelas abstrak terdapat pula kelas interface. Kelas ini sering disebut pure abstract. Sebuah  interface  dapat  dibayangkan  sebagai  kelas  abstrak  yang  seluruh  methodnya  adalah abstrak. Interface digunakan pada kelas-kelas lain dengan cara diimplementasikan dengan menggunakan key word implements. Sedangkan untuk membentuknya menggunakan keyword interface dengan aturan seperti berikut:\n",
    "\n",
    "```  javascript\n",
    "<modifier> interface <nama interface> {\n",
    "//definisi konstanta\n",
    "// method abstrak\n",
    "}\n",
    "```\n",
    "\n",
    "Interface dapat dibedakan dengan kelas abstrak dalam hal seperti berikut :\n",
    "\n",
    "  1. Kelas abstrak dapat memiliki method abstrak maupun non abstrak tapi interface harus berisi method abstrak semua.\n",
    "  2. Kelas abstrak dapat mendeklarasaikan variabel instant, sedangkan interface hanya dapat mendefinisikan konstanta.\n",
    "  3. Interface dapat diimplementasikan lebih dari dari satu interface.\n",
    "  4. Pada interface modifier yang digunakan hanya public atau tidak sama sekali.\n",
    "\n",
    "**Hubungan Antara Class dan Interface**\n",
    "\n",
    "Seperti yang terlihat pada ilustrasi gambar [Figure 8.1], sebuah class melakukan extends terhadap class  lain, sebuah interface melakukan extends terhadap interface lain, namun sebuah class melakukan implements pada interface.\n",
    "\n",
    "[Figure 8.1](https://github.com/rahmadsa/java-essentials-for-basic-data-analysis/tree/master/images/figure81.jpg)\n",
    "\n",
    "\n",
    "Perhatikan kode interface CetakLaporan:\n",
    "\n",
    "```  javascript\n",
    "//Program 8.7\n",
    "public interface CetakLaporan {\n",
    "    public void cetakA4();\n",
    "    public void cetakA3();\n",
    "}\n",
    "```\n",
    "Interface CetakLaporan diimplementasikan pada class LaporanPenjualan\n",
    "\n",
    "```  javascript\n",
    "public class LaporanPenjualan implements CetakLaporan{\n",
    "    public void cetakA4(){\n",
    "        System.out.println(\"Cetak Laporan di A4\");\n",
    "    }\n",
    "    public void cetakA3(){\n",
    "        System.out.println(\"Cetak Laporan di A3\");\n",
    "    }\n",
    "}\n",
    "```\n",
    "--------------------\n",
    "```  javascript\n",
    "        LaporanPenjualan lt = new LaporanPenjualan();\n",
    "        lt.cetakA3();\n",
    "        lt.cetakA4();\n",
    "```\n",
    "### Tugas 8.7\n",
    "\n",
    "Implementasikan *Program 8.7* diatas kemudian lakukan eksesusi kode tersebut dan amatilah hasilnya."
   ]
  },
  {
   "cell_type": "code",
   "execution_count": 18,
   "metadata": {},
   "outputs": [
    {
     "data": {
      "text/plain": [
       "com.twosigma.beaker.javash.bkrc9b8004f.CetakLaporan"
      ]
     },
     "execution_count": 18,
     "metadata": {},
     "output_type": "execute_result"
    }
   ],
   "source": [
    "//Program 8.7\n",
    "public interface CetakLaporan {\n",
    "    public void cetakA4();\n",
    "    public void cetakA3();\n",
    "}"
   ]
  },
  {
   "cell_type": "code",
   "execution_count": 19,
   "metadata": {},
   "outputs": [
    {
     "data": {
      "text/plain": [
       "com.twosigma.beaker.javash.bkrc9b8004f.LaporanPenjualan"
      ]
     },
     "execution_count": 19,
     "metadata": {},
     "output_type": "execute_result"
    }
   ],
   "source": [
    "public class LaporanPenjualan implements CetakLaporan{\n",
    "    public void cetakA4(){\n",
    "        System.out.println(\"Cetak Laporan di A4\");\n",
    "    }\n",
    "    public void cetakA3(){\n",
    "        System.out.println(\"Cetak Laporan di A3\");\n",
    "    }\n",
    "}"
   ]
  },
  {
   "cell_type": "code",
   "execution_count": 20,
   "metadata": {},
   "outputs": [
    {
     "name": "stdout",
     "output_type": "stream",
     "text": [
      "Cetak Laporan di A3\n",
      "Cetak Laporan di A4\n"
     ]
    },
    {
     "data": {
      "text/plain": [
       "null"
      ]
     },
     "execution_count": 20,
     "metadata": {},
     "output_type": "execute_result"
    }
   ],
   "source": [
    "        LaporanPenjualan lt = new LaporanPenjualan();\n",
    "        lt.cetakA3();\n",
    "        lt.cetakA4();"
   ]
  },
  {
   "cell_type": "markdown",
   "metadata": {},
   "source": [
    "**Pewarisan Pada Interface**\n",
    "\n",
    "Jika sebuah class tidak diperkenankan melakukan pewarisan (extends) lebih dari 1 class, maka interface diperbolehkan melakukan hal tersebut. Namun sebuah class diperbolehkan melakukan implementasi terhadap lebih dari 1 interface(figure 8.2).\n",
    "\n",
    "[Figure 8.2](https://github.com/rahmadsa/java-essentials-for-basic-data-analysis/tree/master/images/figure82.jpg)\n",
    "\n",
    "Perhatikan kode program berikut ini\n",
    "```  javascript\n",
    "//Program 8.8\n",
    "public interface TampilLaporan {\n",
    "    public void tampilWeb();\n",
    "    public void tampilMobile();\n",
    "}\n",
    "\n",
    "public class LaporanPembelian implements CetakLaporan, TampilLaporan{\n",
    "    public void cetakA4(){\n",
    "        System.out.println(\"Cetak Laporan di A4\");\n",
    "    }\n",
    "    public void cetakA3(){\n",
    "        System.out.println(\"Cetak Laporan di A3\");\n",
    "    }\n",
    "    public void tampilWeb(){\n",
    "        System.out.println(\"Tampil di Monitor\");\n",
    "    }\n",
    "    public void tampilMobile(){\n",
    "        System.out.println(\"Tampil di Handphone\");\n",
    "    }\n",
    "    \n",
    "```\n",
    "-----------------\n",
    "```  javascript\n",
    "        LaporanPembelian lp = new LaporanPembelian();\n",
    "        lp.cetakA3();\n",
    "        lp.cetakA4();\n",
    "        lp.tampilMobile();\n",
    "        lp.tampilWeb();\n",
    "```\n",
    "\n",
    "Contoh kode program interface melakukan multiple pewarisan.\n",
    "\n",
    "```  javascript\n",
    "public interface Laporan extends CetakLaporan, TampilLaporan{\n",
    "    public void exportExcel();\n",
    "\n",
    "}\n",
    "```\n",
    "### Tugas 8.8\n",
    "\n",
    "Implementasikan *Program 8.5* diatas kemudian lakukan eksesusi kode tersebut dan amatilah hasilnya."
   ]
  },
  {
   "cell_type": "code",
   "execution_count": 21,
   "metadata": {},
   "outputs": [
    {
     "data": {
      "text/plain": [
       "com.twosigma.beaker.javash.bkrc9b8004f.TampilLaporan"
      ]
     },
     "execution_count": 21,
     "metadata": {},
     "output_type": "execute_result"
    }
   ],
   "source": [
    "//Program 8.8\n",
    "public interface TampilLaporan {\n",
    "    public void tampilWeb();\n",
    "    public void tampilMobile();\n",
    "}"
   ]
  },
  {
   "cell_type": "code",
   "execution_count": 23,
   "metadata": {},
   "outputs": [
    {
     "data": {
      "text/plain": [
       "com.twosigma.beaker.javash.bkrc9b8004f.LaporanPembelian"
      ]
     },
     "execution_count": 23,
     "metadata": {},
     "output_type": "execute_result"
    }
   ],
   "source": [
    "public class LaporanPembelian implements CetakLaporan, TampilLaporan{\n",
    "    public void cetakA4(){\n",
    "        System.out.println(\"Cetak Laporan di A4\");\n",
    "    }\n",
    "    public void cetakA3(){\n",
    "        System.out.println(\"Cetak Laporan di A3\");\n",
    "    }\n",
    "    public void tampilWeb(){\n",
    "        System.out.println(\"Tampil di Monitor\");\n",
    "    }\n",
    "    public void tampilMobile(){\n",
    "        System.out.println(\"Tampil di Handphone\");\n",
    "    }\n",
    "}"
   ]
  },
  {
   "cell_type": "code",
   "execution_count": 24,
   "metadata": {},
   "outputs": [
    {
     "name": "stdout",
     "output_type": "stream",
     "text": [
      "Cetak Laporan di A3\n",
      "Cetak Laporan di A4\n",
      "Tampil di Handphone\n",
      "Tampil di Monitor\n"
     ]
    },
    {
     "data": {
      "text/plain": [
       "null"
      ]
     },
     "execution_count": 24,
     "metadata": {},
     "output_type": "execute_result"
    }
   ],
   "source": [
    "        LaporanPembelian lp = new LaporanPembelian();\n",
    "        lp.cetakA3();\n",
    "        lp.cetakA4();\n",
    "        lp.tampilMobile();\n",
    "        lp.tampilWeb();"
   ]
  },
  {
   "cell_type": "markdown",
   "metadata": {},
   "source": [
    "### Tugas 8.9\n",
    "Berikanlah kesimpulan berkait dengan materi Pilar - pilar dalam Pemrograman Berorientasi Objek ;\n"
   ]
  },
  {
   "cell_type": "code",
   "execution_count": null,
   "metadata": {},
   "outputs": [],
   "source": [
    "Ada 4 hal fundamental dalam pemrograman Berorientasi Objek yaitu :\n",
    "1. Encapsulation\n",
    "2. Inheritance\n",
    "3. Abstraction\n",
    "4. Polymorphism\n",
    "\n",
    "1. Encapsulation yaitu enkapsulasi , dalam suatu class kita mendefinisikan field atau variable dengan modifier private, sehingga kelas lain tidak bisa\n",
    "merubah value variable kecuali ada method yg mengizinkan utk merubah value variabel tersebut (setter)\n",
    "2. Inheritance yaitu pewarisan , dalam suatu kelas kita bisa mengimplementasikan kelas atau variabel, method dari kelas lain dengan menggunakan keyword extends\n",
    "    yang nantinya akan menjadi super atau parent kelas tersebut\n",
    "3. Abstraction yaitu abstraksi, inti dari abstraksi yaitu pengguna atau user program dapat menjalankan program dengan mudah dan tanpa harus tahu\n",
    "bagaimana program bekerja di background\n",
    "4. Polymorphism yaitu banyak bentuk, suatu method dapat memiliki berbagai parameter dengan istilah overloading, dan suatu method dapat di override \n",
    "dengan cara bekerja method yg berbeda-beda."
   ]
  }
 ],
 "metadata": {
  "kernelspec": {
   "display_name": "Java",
   "language": "java",
   "name": "java"
  },
  "language_info": {
   "codemirror_mode": "java",
   "file_extension": ".jshell",
   "mimetype": "text/x-java-source",
   "name": "Java",
   "pygments_lexer": "java",
   "version": "11.0.3+7"
  },
  "toc": {
   "base_numbering": 1,
   "nav_menu": {},
   "number_sections": false,
   "sideBar": false,
   "skip_h1_title": false,
   "title_cell": "Table of Contents",
   "title_sidebar": "Contents",
   "toc_cell": false,
   "toc_position": {},
   "toc_section_display": false,
   "toc_window_display": false
  }
 },
 "nbformat": 4,
 "nbformat_minor": 4
}
