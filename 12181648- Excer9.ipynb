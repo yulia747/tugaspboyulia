{
 "cells": [
  {
   "cell_type": "code",
   "execution_count": 7,
   "metadata": {},
   "outputs": [
    {
     "data": {
      "text/plain": [
       "com.twosigma.beaker.javash.bkr7d5ea67d.Kemampuan"
      ]
     },
     "execution_count": 7,
     "metadata": {},
     "output_type": "execute_result"
    }
   ],
   "source": [
    "public interface Kemampuan {\n",
    "\n",
    "    void doMove();\n",
    "}"
   ]
  },
  {
   "cell_type": "code",
   "execution_count": 8,
   "metadata": {},
   "outputs": [
    {
     "data": {
      "text/plain": [
       "com.twosigma.beaker.javash.bkr7d5ea67d.Lingkungan"
      ]
     },
     "execution_count": 8,
     "metadata": {},
     "output_type": "execute_result"
    }
   ],
   "source": [
    "public interface Lingkungan {\n",
    "\n",
    "    void ekosistem();\n",
    "}"
   ]
  },
  {
   "cell_type": "code",
   "execution_count": 9,
   "metadata": {},
   "outputs": [
    {
     "data": {
      "text/plain": [
       "com.twosigma.beaker.javash.bkr7d5ea67d.Burung"
      ]
     },
     "execution_count": 9,
     "metadata": {},
     "output_type": "execute_result"
    }
   ],
   "source": [
    "public class Burung implements Kemampuan, Lingkungan {\n",
    "\n",
    "    @Override\n",
    "    public void doMove() {\n",
    "        System.out.println(\"Terbang Kemampuan::Burung() method.\");\n",
    "    }\n",
    "\n",
    "    @Override\n",
    "    public void ekosistem() {\n",
    "        System.out.println(\"Lingkungan udara::Burung() method.\");\n",
    "    }\n",
    "}"
   ]
  },
  {
   "cell_type": "code",
   "execution_count": 10,
   "metadata": {},
   "outputs": [
    {
     "data": {
      "text/plain": [
       "com.twosigma.beaker.javash.bkr7d5ea67d.Ikan"
      ]
     },
     "execution_count": 10,
     "metadata": {},
     "output_type": "execute_result"
    }
   ],
   "source": [
    "public class Ikan implements Kemampuan, Lingkungan {\n",
    "\n",
    "    @Override\n",
    "    public void doMove() {\n",
    "        System.out.println(\"Berenang Kemampuan::Ikan() method.\");\n",
    "    }\n",
    "\n",
    "    @Override\n",
    "    public void ekosistem() {\n",
    "        System.out.println(\"Lingkungan air::Ikan() method.\");\n",
    "    }\n",
    "}"
   ]
  },
  {
   "cell_type": "code",
   "execution_count": 11,
   "metadata": {},
   "outputs": [
    {
     "data": {
      "text/plain": [
       "com.twosigma.beaker.javash.bkr7d5ea67d.Mamalia"
      ]
     },
     "execution_count": 11,
     "metadata": {},
     "output_type": "execute_result"
    }
   ],
   "source": [
    "public class Mamalia implements Kemampuan, Lingkungan {\n",
    "\n",
    "    @Override\n",
    "    public void doMove() {\n",
    "        System.out.println(\"Berjalan Kemampuan::Mamalia() method.\");\n",
    "    }\n",
    "\n",
    "    @Override\n",
    "    public void ekosistem() {\n",
    "        System.out.println(\"Lingkungan darat::Mamalia() method.\");\n",
    "    }\n",
    "}"
   ]
  },
  {
   "cell_type": "code",
   "execution_count": 12,
   "metadata": {},
   "outputs": [
    {
     "data": {
      "text/plain": [
       "com.twosigma.beaker.javash.bkr7d5ea67d.KemampuanFactory"
      ]
     },
     "execution_count": 12,
     "metadata": {},
     "output_type": "execute_result"
    }
   ],
   "source": [
    "public class KemampuanFactory {\n",
    "\n",
    "    //use getShape method to get object of type shape\n",
    "    public static Kemampuan getKemampuan(String typeKemampuan) {\n",
    "        if (typeKemampuan == null) {\n",
    "            return null;\n",
    "        }\n",
    "        if (typeKemampuan.equalsIgnoreCase(\"BURUNG\")) {\n",
    "            return new Burung();\n",
    "        } else if (typeKemampuan.equalsIgnoreCase(\"IKAN\")) {\n",
    "            return new Ikan();\n",
    "        } else if (typeKemampuan.equalsIgnoreCase(\"MAMALIA\")) {\n",
    "            return new Mamalia();\n",
    "        }\n",
    "        return null;\n",
    "    }\n",
    "}"
   ]
  },
  {
   "cell_type": "code",
   "execution_count": 13,
   "metadata": {},
   "outputs": [
    {
     "data": {
      "text/plain": [
       "com.twosigma.beaker.javash.bkr7d5ea67d.LingkunganFactory"
      ]
     },
     "execution_count": 13,
     "metadata": {},
     "output_type": "execute_result"
    }
   ],
   "source": [
    "public class LingkunganFactory {\n",
    "\n",
    "    public static Lingkungan getLingkungan(String args) {\n",
    "        if (args == null) {\n",
    "            return null;\n",
    "        }\n",
    "        if (args.equalsIgnoreCase(\"BURUNG\")) {\n",
    "            return new Burung();\n",
    "        } else if (args.equalsIgnoreCase(\"IKAN\")) {\n",
    "            return new Ikan();\n",
    "        } else if (args.equalsIgnoreCase(\"MAMALIA\")) {\n",
    "            return new Mamalia();\n",
    "        }\n",
    "        return null;\n",
    "    }\n",
    "}"
   ]
  },
  {
   "cell_type": "code",
   "execution_count": 14,
   "metadata": {},
   "outputs": [
    {
     "name": "stdout",
     "output_type": "stream",
     "text": [
      "Terbang Kemampuan::Burung() method.\n",
      "Berenang Kemampuan::Ikan() method.\n",
      "Berjalan Kemampuan::Mamalia() method.\n",
      "Lingkungan udara::Burung() method.\n",
      "Lingkungan air::Ikan() method.\n",
      "Lingkungan darat::Mamalia() method.\n"
     ]
    },
    {
     "data": {
      "text/plain": [
       "null"
      ]
     },
     "execution_count": 14,
     "metadata": {},
     "output_type": "execute_result"
    }
   ],
   "source": [
    "        //get an object of IkanKoi and call its doMove method.\n",
    "        Kemampuan BurungBetet = KemampuanFactory.getKemampuan(\"BURUNG\");\n",
    "        Kemampuan ikan = KemampuanFactory.getKemampuan(\"IKAN\");\n",
    "        Kemampuan mamalia = KemampuanFactory.getKemampuan(\"MAMALIA\");\n",
    "\n",
    "        //call draw method of Ikan\n",
    "        BurungBetet.doMove();\n",
    "        ikan.doMove();\n",
    "        mamalia.doMove();\n",
    "\n",
    "        Lingkungan burung = LingkunganFactory.getLingkungan(\"BURUNG\");\n",
    "        Lingkungan lingkunganIkan = LingkunganFactory.getLingkungan(\"IKAN\");\n",
    "        Lingkungan lingkunganMamalia = LingkunganFactory.getLingkungan(\"MAMALIA\");\n",
    "\n",
    "        burung.ekosistem();\n",
    "        lingkunganIkan.ekosistem();\n",
    "        lingkunganMamalia.ekosistem();"
   ]
  }
 ],
 "metadata": {
  "kernelspec": {
   "display_name": "Java",
   "language": "java",
   "name": "java"
  },
  "language_info": {
   "codemirror_mode": "java",
   "file_extension": ".jshell",
   "mimetype": "text/x-java-source",
   "name": "Java",
   "pygments_lexer": "java",
   "version": "11.0.3+7"
  },
  "toc": {
   "base_numbering": 1,
   "nav_menu": {},
   "number_sections": false,
   "sideBar": false,
   "skip_h1_title": false,
   "title_cell": "Table of Contents",
   "title_sidebar": "Contents",
   "toc_cell": false,
   "toc_position": {},
   "toc_section_display": false,
   "toc_window_display": false
  }
 },
 "nbformat": 4,
 "nbformat_minor": 4
}
