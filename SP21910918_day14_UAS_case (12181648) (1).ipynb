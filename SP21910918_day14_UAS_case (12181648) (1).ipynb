{
 "cells": [
  {
   "cell_type": "code",
   "execution_count": null,
   "metadata": {},
   "outputs": [],
   "source": [
    "// 1. Buatlah aplikasi dalam pemrograman Java untuk menyatukan data (combine) dari dua file\n",
    "// dengan format berbeda yang terlampir (attachment terkompres) dalam sebuah dataframe."
   ]
  },
  {
   "cell_type": "code",
   "execution_count": 2,
   "metadata": {},
   "outputs": [
    {
     "data": {
      "application/vnd.jupyter.widget-view+json": {
       "model_id": "",
       "version_major": 2,
       "version_minor": 0
      },
      "method": "display_data"
     },
     "metadata": {},
     "output_type": "display_data"
    },
    {
     "data": {
      "application/vnd.jupyter.widget-view+json": {
       "model_id": "de5f2da3-17a3-4d4c-bbea-c30a06c4c4cd",
       "version_major": 2,
       "version_minor": 0
      },
      "method": "display_data"
     },
     "metadata": {},
     "output_type": "display_data"
    }
   ],
   "source": [
    "//Load Library\n",
    "%%classpath add mvn\n",
    "tech.tablesaw tablesaw-beakerx 0.35.0\n",
    "com.jimmoores quandl-tablesaw 2.0.0\n",
    "com.github.haifengl smile-core 1.5.2\n",
    "tech.tablesaw tablesaw-excel 0.35.0\n",
    "tech.tablesaw tablesaw-json 0.35.0\n",
    "org.xerial sqlite-jdbc 3.28.0\n",
    "org.jsoup jsoup 1.11.3"
   ]
  },
  {
   "cell_type": "code",
   "execution_count": 3,
   "metadata": {},
   "outputs": [
    {
     "data": {
      "text/plain": [
       "null"
      ]
     },
     "execution_count": 3,
     "metadata": {},
     "output_type": "execute_result"
    }
   ],
   "source": [
    "%import static tech.tablesaw.aggregate.AggregateFunctions.*\n",
    "%import tech.tablesaw.api.*\n",
    "%import tech.tablesaw.columns.*\n",
    "%import smile.clustering.*\n",
    "%import smile.regression.*\n",
    "\n",
    "// display Tablesaw tables with BeakerX table display widget\n",
    "tech.tablesaw.beakerx.TablesawDisplayer.register();"
   ]
  },
  {
   "cell_type": "code",
   "execution_count": 12,
   "metadata": {
    "scrolled": true
   },
   "outputs": [
    {
     "name": "stdout",
     "output_type": "stream",
     "text": [
      "                                                          12186148.csv                                                           \n",
      " _id   |  idx   |                   series                    |  kode_wilayah  |         wilayah         |  tahun  |    nilai    |\n",
      "----------------------------------------------------------------------------------------------------------------------------------\n",
      " 194  |  193  |  Panjang Jalan Kabupaten Berdasarkan Kondisi ( SEDANG )  |       65  |      KALIMANTAN UTARA  |   2009  |             |\n",
      " 195  |  194  |  Panjang Jalan Kabupaten Berdasarkan Kondisi ( SEDANG )  |       71  |         SULAWESI UTARA  |   2009  |             |\n",
      " 196  |  195  |  Panjang Jalan Kabupaten Berdasarkan Kondisi ( SEDANG )  |       72  |          SULAWEI TENGAH  |   2009  |             |\n",
      " 197  |  196  |  Panjang Jalan Kabupaten Berdasarkan Kondisi ( SEDANG )  |       73  |          SULAWEI TENGAH  |   2009  |             |\n",
      " 198  |  197  |  Panjang Jalan Kabupaten Berdasarkan Kondisi ( SEDANG )  |       74  |           GORONTALO  |   2009  |             |\n",
      " 199  |  198  |  Panjang Jalan Kabupaten Berdasarkan Kondisi ( SEDANG )  |       75  |            SULAWESI BARAT  |   2009  |  250000000  |\n",
      " 200  |  199  |  Panjang Jalan Kabupaten Berdasarkan Kondisi ( SEDANG )  |       76  |            MALUKU  |   2009  |             |\n",
      " 201  |  200  |  Panjang Jalan Kabupaten Berdasarkan Kondisi ( SEDANG )  |       81  |  MALUKU UTARA  |   2009  |             |\n",
      " 202  |  201  |  Panjang Jalan Kabupaten Berdasarkan Kondisi ( SEDANG )  |       82  |           PAPUA BARAT  |   2009  |             |\n",
      " 203  |  202  |  Panjang Jalan Kabupaten Berdasarkan Kondisi ( SEDANG )  |       91  |                   PAPUA  |   2009  |             |\n",
      "  ...  |   ...  |                                        ...  |           ...  |                    ...  |    ...  |        ...  |\n",
      " 204  |  203  |  Panjang Jalan Kabupaten Berdasarkan Kondisi ( SEDANG )  |       94  |         TERAS TERUNJAM  |   2009  |             |\n",
      " 205  |  204  |  Panjang Jalan Kabupaten Berdasarkan Kondisi ( SEDANG )  |       11  |                PENARIK  |   2009  |             |\n",
      " 206  |  205  |  Panjang Jalan Kabupaten Berdasarkan Kondisi ( SEDANG )  |       12  |           SELAGAN RAYA  |   2009  |             |\n",
      " 207  |  206  |  Panjang Jalan Kabupaten Berdasarkan Kondisi ( SEDANG )  |       13  |          KOTA MUKOMUKO  |   2009  |             |\n",
      " 208  |  207  |  Panjang Jalan Kabupaten Berdasarkan Kondisi ( SEDANG )  |       14  |              AIR DIKIT  |   2009  |             |\n",
      " 209  |  208  |  Panjang Jalan Kabupaten Berdasarkan Kondisi ( SEDANG )  |       15  |               XIV KOTO  |   2009  |             |\n",
      " 210  |  209  |  Panjang Jalan Kabupaten Berdasarkan Kondisi ( SEDANG )  |       16  |           LUBUK PINANG  |   2009  |             |\n",
      " 211  |  210  |  Panjang Jalan Kabupaten Berdasarkan Kondisi ( SEDANG )  |       17  |           AIR MANJUNTO  |   2009  |             |\n",
      " 212  |  211  |  Panjang Jalan Kabupaten Berdasarkan Kondisi ( SEDANG )  |       18  |                 V KOTO  |   2009  |             |\n",
      " 213  |  212  |  Panjang Jalan Kabupaten Berdasarkan Kondisi ( SEDANG )  |       19  |        RIMBO PENGADANG  |   2009  |  150000000  |\n",
      "                                                                             12181648.csv summary                                                                             \n",
      " Count [nilai]  |  Sum [nilai]  |  Max [nilai]  |  Min [nilai]  |    Mean [nilai]     |  Range [nilai]  |  Median [nilai]  |   Variance [nilai]    |  Std. Deviation [nilai]  |\n",
      "-------------------------------------------------------------------------------------------------------------------------------------------------------------------------------\n",
      "           249  |  572678  |  10320  |      10000  |  50621.2413792  |    10319  |       17650  |  143534773  |      119805.3800147  |\n"
     ]
    },
    {
     "data": {
      "text/plain": [
       "null"
      ]
     },
     "execution_count": 12,
     "metadata": {},
     "output_type": "execute_result"
    }
   ],
   "source": [
    "import static tech.tablesaw.aggregate.AggregateFunctions.*;\n",
    "\n",
    "import tech.tablesaw.api.*;\n",
    "import tech.tablesaw.io.json.*;\n",
    "\n",
    "tech.tablesaw.beakerx.TablesawDisplayer.register();\n",
    "\n",
    "JsonReader reader = new JsonReader();\n",
    "\n",
    "Table data2 = Table.read().csv(\"12181648/12181648.csv\");\n",
    "\n",
    "JsonReadOptions file1 = JsonReadOptions.builder(\"12181648/12181648.json\").build();\n",
    "\n",
    "Table data1 = reader.read(file1);\n",
    "\n",
    "Table datagabung = data1.append(data2);\n",
    "\n",
    "System.out.println(datagabung.print()); \n",
    "\n",
    "System.out.println(datagabung.summarize(\"nilai\", count, sum, max, min, mean, range, median, variance, standardDeviation).apply());"
   ]
  },
  {
   "cell_type": "code",
   "execution_count": null,
   "metadata": {},
   "outputs": [],
   "source": [
    "\n",
    "1. ada 249 data\n",
    "2. total nilai 572678\n",
    "3. max nilai 10320\n",
    "4. min nilai 1000\n",
    "5. rata-rata mean 50621.2413792\n",
    "6. Nilai tengah dari nilai yaitu 17650\n",
    "7. Nilai variasi yaitu  143534773\n",
    "8. Nilai dari standar deviasi yaitu 119805.3800147 "
   ]
  },
  {
   "cell_type": "code",
   "execution_count": null,
   "metadata": {},
   "outputs": [],
   "source": [
    "\n",
    "import static tech.tablesaw.aggregate.AggregateFunctions.*;\n",
    "\n",
    "import tech.tablesaw.api.*;\n",
    "import tech.tablesaw.io.json.*;\n",
    "\n",
    "tech.tablesaw.beakerx.TablesawDisplayer.register();\n",
    "\n",
    "JsonReader reader = new JsonReader();\n",
    "\n",
    "Table data2 = Table.read().csv(\"12181648/12181648.csv\");\n",
    "\n",
    "JsonReadOptions file1 = JsonReadOptions.builder(\"12181648/12181648.xlsx\").build();\n",
    "\n",
    "Table data1 = reader.read(file1);\n",
    "\n",
    "Table datagabung = data2.append(data1);"
   ]
  }
 ],
 "metadata": {
  "kernelspec": {
   "display_name": "Java",
   "language": "java",
   "name": "java"
  },
  "language_info": {
   "codemirror_mode": "java",
   "file_extension": ".jshell",
   "mimetype": "text/x-java-source",
   "name": "Java",
   "pygments_lexer": "java",
   "version": "11.0.3+7"
  },
  "toc": {
   "base_numbering": 1,
   "nav_menu": {},
   "number_sections": false,
   "sideBar": false,
   "skip_h1_title": false,
   "title_cell": "Table of Contents",
   "title_sidebar": "Contents",
   "toc_cell": false,
   "toc_position": {},
   "toc_section_display": false,
   "toc_window_display": false
  }
 },
 "nbformat": 4,
 "nbformat_minor": 2
}
